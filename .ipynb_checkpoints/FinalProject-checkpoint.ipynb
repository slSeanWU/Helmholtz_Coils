{
 "cells": [
  {
   "cell_type": "markdown",
   "metadata": {
    "collapsed": true
   },
   "source": [
    "# Part I: DC Current"
   ]
  },
  {
   "cell_type": "code",
   "execution_count": 5,
   "metadata": {
    "collapsed": true
   },
   "outputs": [],
   "source": [
    "from vpython import *\n",
    "\n",
    "## define constants\n",
    "mu0_over4pi = 1e-7\n",
    "pi = acos(-1.0)\n",
    "R = 0.15\n",
    "I = 50\n",
    "qe = 1.602e-19\n",
    "mass_e = 9.11e-31\n",
    "c = 3e8"
   ]
  },
  {
   "cell_type": "code",
   "execution_count": null,
   "metadata": {
    "scrolled": true
   },
   "outputs": [
    {
     "data": {
      "text/html": [
       "<div id=\"glowscript\" class=\"glowscript\"></div>"
      ],
      "text/plain": [
       "<IPython.core.display.HTML object>"
      ]
     },
     "metadata": {},
     "output_type": "display_data"
    },
    {
     "data": {
      "application/javascript": [
       "window.__context = { glowscript_container: $(\"#glowscript\").removeAttr(\"id\")}"
      ],
      "text/plain": [
       "<IPython.core.display.Javascript object>"
      ]
     },
     "metadata": {},
     "output_type": "display_data"
    }
   ],
   "source": [
    "enviro = canvas(width=600, height=400, title = 'click to shoot electron in')\n",
    "apart = R\n",
    "\n",
    "## Build the coils\n",
    "I_ring = cylinder(pos=vector(0.5*apart-0.05*R, 0, 0), axis = vector(0.1*R, 0, 0), radius = R,\n",
    "              color = color.yellow, shininess = 0.6)\n",
    "hollow_out = cylinder(pos=vector(0.5*apart-0.06*R, 0, 0), axis = vector(0.12*R, 0, 0), radius = 0.9*R, color = color.black)\n",
    "con_rod = cylinder(pos=vector(0.5*R, -R, 0), axis = vector(0, -0.2*R, 0), radius = 0.04*R, color = color.gray(0.8), shininess = 0.6)\n",
    "base = box(pos=vector(0.5*R, -1.3*R, 0), size=vector(0.6*R, 0.3*R, 0.6*R), color = vector(1, 0.7, 0.2))\n",
    "coil1 = compound([I_ring, hollow_out, con_rod, base])\n",
    "coil2 = coil1.clone(pos = vec(-coil1.pos.x, coil1.pos.y, 0))\n",
    "\n",
    "## discretize the coils\n",
    "segment_Y = []\n",
    "segment_Z = []\n",
    "for i in range(0, 73):\n",
    "    segment_Y.append( R*cos(i*2*pi/72) )\n",
    "    segment_Z.append( R*sin(i*2*pi/72) )\n",
    "\n",
    "\n",
    "\n",
    "## For x-axis field plotting\n",
    "x_field = graph(width=800,height=400, xtitle = 'x', ytitle = 'Magnetic field (T)')\n",
    "gc_B1 = gcurve(graph=x_field,color=color.green)\n",
    "gc_B2 = gcurve(graph=x_field,color=color.blue)\n",
    "gc_B = gcurve(graph=x_field,color=color.magenta)\n",
    "\n",
    "def x_plot(dis):\n",
    "    gc_B1.delete()\n",
    "    gc_B2.delete()\n",
    "    gc_B.delete()\n",
    "    segment_pos = []\n",
    "    dLength = []\n",
    "    \n",
    "    for i in range(0, 72):\n",
    "        segment_pos.append( 0.5*vec(0.5*dis, segment_Y[i], segment_Z[i]) + \n",
    "                            0.5*vec(0.5*dis, segment_Y[i+1], segment_Z[i+1]) )\n",
    "        dLength.append( vec(0.5*dis, segment_Y[i+1], segment_Z[i+1]) - \n",
    "                        vec(0.5*dis, segment_Y[i], segment_Z[i]) )\n",
    "\n",
    "    ## compute B-field along x-axis\n",
    "    for i in range(-200, 201):\n",
    "        now_pos = vec(i*(dis/200),0,0)\n",
    "        B_now = vec(0,0,0)\n",
    "        B1 = B2 = vec(0, 0, 0)\n",
    "        \n",
    "        for j in range (0,72):\n",
    "            pos1 = segment_pos[j]\n",
    "            pos2 = vec(-pos1.x, pos1.y, pos1.z)\n",
    "            dB1 = mu0_over4pi*I*cross(dLength[j], now_pos - pos1) / mag(now_pos - pos1)**3\n",
    "            dB2 = mu0_over4pi*I*cross(dLength[j], now_pos - pos2) / mag(now_pos - pos2)**3\n",
    "            B1 += dB1\n",
    "            B2 += dB2\n",
    "            B_now += dB1+dB2\n",
    "\n",
    "        gc_B.plot([now_pos.x, mag(B_now)])\n",
    "        gc_B1.plot([now_pos.x, mag(B1)])\n",
    "        gc_B2.plot([now_pos.x, mag(B2)])\n",
    "    \n",
    "enviro.caption = \"Vary the distance between coils\\n\"\n",
    "def setapart(s):\n",
    "    wt.text = '{:1.2f}'.format(s.value)\n",
    "    global apart\n",
    "    apart = s.value*R\n",
    "    coil1.pos.x = 0.5*apart\n",
    "    coil2.pos.x = -0.5*apart\n",
    "    x_plot(apart)\n",
    "    \n",
    "sl_ap = slider(min=0.5, max=3, value=1, length=220, bind=setapart, right=15)\n",
    "wt = wtext(text='{:1.2f}'.format(sl_ap.value))\n",
    "enviro.append_to_caption('* Radius of coil\\n')\n",
    "\n",
    "## discretize the coil\n",
    "segment_pos = []\n",
    "dLength = []\n",
    "for i in range(0, 73):\n",
    "    segment_pos.append( 0.5*vec(0.5*apart, R*cos(i*2*pi/72), R*sin(i*2*pi/72)) + \n",
    "                        0.5*vec(0.5*apart, R*cos((i+1)*2*pi/72), R*sin((i+1)*2*pi/72)) )\n",
    "    dLength.append( vec(0.5*apart, R*cos((i+1)*2*pi/72), R*sin((i+1)*2*pi/72)) - \n",
    "                    vec(0.5*apart, R*cos(i*2*pi/72), R*sin(i*2*pi/72)) )\n",
    "\n",
    "## compute B-field along x-axis\n",
    "for i in range(-100, 101):\n",
    "    now_pos = vec(i*(apart/100),0,0)\n",
    "    B_now = vec(0,0,0)\n",
    "    B1 = B2 = vec(0, 0, 0)\n",
    "    \n",
    "    for j in range (0,72):\n",
    "        pos1 = segment_pos[j]\n",
    "        pos2 = vec(-pos1.x, pos1.y, pos1.z)\n",
    "        dB1 = mu0_over4pi*I*cross(dLength[j], now_pos - pos1) / mag(now_pos - pos1)**3\n",
    "        dB2 = mu0_over4pi*I*cross(dLength[j], now_pos - pos2) / mag(now_pos - pos2)**3\n",
    "        B1 += dB1\n",
    "        B2 += dB2\n",
    "        B_now += dB1+dB2\n",
    "\n",
    "    gc_B.plot([now_pos.x, mag(B_now)])\n",
    "    gc_B1.plot([now_pos.x, mag(B1)])\n",
    "    gc_B2.plot([now_pos.x, mag(B2)])\n",
    "\n",
    "\n",
    "def B_calculate(pos):\n",
    "    B_now = vec(0,0,0)\n",
    "    for j in range (0,72):\n",
    "        pos1 = segment_pos[j]\n",
    "        pos2 = vec(-pos1.x, pos1.y, pos1.z)\n",
    "        dB1 = mu0_over4pi*I*cross(dLength[j], pos - pos1) / mag(pos - pos1)**3\n",
    "        dB2 = mu0_over4pi*I*cross(dLength[j], pos - pos2) / mag(pos - pos2)**3\n",
    "        B_now += dB1+dB2\n",
    "    return B_now\n",
    "\n",
    "## send an electron in\n",
    "electron = sphere(pos=vec(0, 0, 0), radius = 0.05*R, make_trail = True)\n",
    "enviro.waitfor('click')\n",
    "\n",
    "t = 0\n",
    "dt = 1e-11\n",
    "e_velo = vec(0, -8e-3*c, 0)\n",
    "while(mag(electron.pos) <= 5*R):\n",
    "    rate(1000000)\n",
    "    Fmag = -qe*cross(e_velo, B_calculate(electron.pos))\n",
    "    e_velo += Fmag/mass_e*dt\n",
    "    electron.pos += e_velo*dt\n",
    "    t += dt"
   ]
  },
  {
   "cell_type": "code",
   "execution_count": null,
   "metadata": {
    "collapsed": true
   },
   "outputs": [],
   "source": []
  }
 ],
 "metadata": {
  "kernelspec": {
   "display_name": "VPython",
   "language": "python",
   "name": "vpython"
  },
  "language_info": {
   "codemirror_mode": {
    "name": "ipython",
    "version": 2
   },
   "file_extension": ".py",
   "mimetype": "text/x-python",
   "name": "python",
   "nbconvert_exporter": "python",
   "pygments_lexer": "ipython2",
   "version": "2.7.13"
  }
 },
 "nbformat": 4,
 "nbformat_minor": 1
}
