{
 "cells": [
  {
   "cell_type": "markdown",
   "metadata": {},
   "source": [
    "# Final Project (Group 3)\n",
    "\n",
    "## Topic: Can you stop the run?\n",
    "\n",
    "## I. Intro\n",
    "\n",
    "   It's the Bottom 9th inning in the final match of **NTU87 Baseball Golden Championship**  \n",
    "   Now, the ballgame is tied at *7-7*, but your closer isn't performing well today.  \n",
    "   All the bases are loaded, and still 1 out to go......\n",
    "     \n",
    "   The next batter is on the plate, and he hits the first pitch.    \n",
    "   It's a **Penetrating Ground Ball** carrying sooooo much speed. Apparently, your infielders are unable to stop it.  \n",
    "   Assume you're the best outfielder on your team, and you've intercepted the ball flawlessly.  \n",
    "   \n",
    "   However, you must **throw the ball fast and accurately enough** back to the homeplate,  \n",
    "   to block their winning run and extend the match.  \n",
    "   \n",
    "   **Can you be the hero of your team?**\n",
    "   \n",
    "## II(a). Use of Materials Taught in the Course: Coding\n",
    "\n",
    "### Python statement covered in this project\n",
    "\n",
    "* `While`\n",
    "* `Random`\n",
    "* `If-else branch`\n",
    "* `functions`\n",
    "\n",
    "### VPython statement covered in this project\n",
    "\n",
    "* `vector`\n",
    "* `box`, `sphere`, `arrow`\n",
    "* `rate`\n",
    "* `widgets`\n",
    "* `camera`\n",
    "\n",
    "Reference: [Jupyter VPython Documentation](http://www.glowscript.org/docs/VPythonDocs/index.html)\n",
    "\n",
    "\n",
    "## II(b). Use of Materials Taught in the Course: Physics\n",
    "\n",
    "* Momentum Principle  \n",
    "* Projectile Movement\n",
    "* Air-resistance\n",
    "* Magnus effect\n",
    "  \n",
    "References:\n",
    "   1. [2D Rotation Matrix](http://mathworld.wolfram.com/RotationMatrix.html)\n",
    "   2. [Air resistance](http://dynref.engr.illinois.edu/afp.html)\n",
    "   3. [Drag coefficient of a sphere](https://en.wikipedia.org/wiki/Drag_coefficient)\n",
    "   4. [Launch speed & Spinrate](https://www.drivelinebaseball.com/2016/11/spin-rate-what-we-know-now/)\n",
    "   5. [Magnus effect on the ball](http://spiff.rit.edu/richmond/baseball/traj_may2011/traj.html)\n",
    "   6. [COR of a baseball](http://twbsball.dils.tku.edu.tw/wiki/index.php/%E7%A1%AC%E5%BC%8F%E6%A3%92%E7%90%83)\n"
   ]
  },
  {
   "cell_type": "markdown",
   "metadata": {},
   "source": [
    "## III. Objective\n",
    "\n",
    " **在三壘跑者跑回本壘得分之前，身為外野手的你必須將球傳到捕手的手上**  \n",
    "\n",
    "\n",
    "## IV. Method\n",
    " 1. **設定風速風向及跑者位置**\n",
    " 2. **調整投球力道、仰角及水平偏角**\n",
    "\n",
    "## V. Results\n",
    " 成功條件：在跑者抵達本壘之前成功將球送至捕手所在位置**半徑一公尺，高度兩公尺的圓柱空間**"
   ]
  },
  {
   "cell_type": "markdown",
   "metadata": {},
   "source": [
    "## Code: Part A\n",
    " ### Just have fun playing with it!!! \n",
    "\n",
    " Random: **wind**  \n",
    " Fixed: **runner's speed**  \n",
    " User-defined: **outfielder's position, all launching conditions**  \n",
    " "
   ]
  },
  {
   "cell_type": "code",
   "execution_count": 1,
   "metadata": {
    "scrolled": true
   },
   "outputs": [
    {
     "data": {
      "application/javascript": [
       "require.undef(\"nbextensions/vpython_libraries/glow.min\");"
      ],
      "text/plain": [
       "<IPython.core.display.Javascript object>"
      ]
     },
     "metadata": {},
     "output_type": "display_data"
    },
    {
     "data": {
      "application/javascript": [
       "require.undef(\"nbextensions/vpython_libraries/glowcomm\");"
      ],
      "text/plain": [
       "<IPython.core.display.Javascript object>"
      ]
     },
     "metadata": {},
     "output_type": "display_data"
    },
    {
     "data": {
      "application/javascript": [
       "require.undef(\"nbextensions/vpython_libraries/jquery-ui.custom.min\");"
      ],
      "text/plain": [
       "<IPython.core.display.Javascript object>"
      ]
     },
     "metadata": {},
     "output_type": "display_data"
    },
    {
     "data": {
      "application/javascript": [
       "require([\"nbextensions/vpython_libraries/glow.min\"], function(){console.log(\"GLOW LOADED\");})"
      ],
      "text/plain": [
       "<IPython.core.display.Javascript object>"
      ]
     },
     "metadata": {},
     "output_type": "display_data"
    },
    {
     "data": {
      "application/javascript": [
       "require([\"nbextensions/vpython_libraries/glowcomm\"], function(){console.log(\"GLOWCOMM LOADED\");})"
      ],
      "text/plain": [
       "<IPython.core.display.Javascript object>"
      ]
     },
     "metadata": {},
     "output_type": "display_data"
    },
    {
     "data": {
      "application/javascript": [
       "require([\"nbextensions/vpython_libraries/jquery-ui.custom.min\"], function(){console.log(\"JQUERY LOADED\");})"
      ],
      "text/plain": [
       "<IPython.core.display.Javascript object>"
      ]
     },
     "metadata": {},
     "output_type": "display_data"
    },
    {
     "data": {
      "text/html": [
       "<div id=\"glowscript\" class=\"glowscript\"></div>"
      ],
      "text/plain": [
       "<IPython.core.display.HTML object>"
      ]
     },
     "metadata": {},
     "output_type": "display_data"
    },
    {
     "data": {
      "application/javascript": [
       "window.__context = { glowscript_container: $(\"#glowscript\").removeAttr(\"id\")}"
      ],
      "text/plain": [
       "<IPython.core.display.Javascript object>"
      ]
     },
     "metadata": {},
     "output_type": "display_data"
    }
   ],
   "source": [
    "from vpython import *\n",
    "from random import random\n",
    "import numpy as np\n",
    "\n",
    "## Define Constants\n",
    "\n",
    "density = 1.225 # air density\n",
    "Cd = 0.47 # drag coefficient of a sphere\n",
    "pi = 3.1415926\n",
    "\n",
    "g=9.8 # g = 9.8 m/s^2\n",
    "size = 3.68e-2 # Baseball radius = 3.68 cm\n",
    "mass = 0.145 # Baseball mass = 0.145 kg\n",
    "height = 2.0 # Where the ball leaves your hand\n",
    "Area = pi * (size**2) # effective surface area\n",
    "density_ball = mass / (4/3 * size**3 * pi)\n",
    "\n",
    "COR = 0.57 #Coefficient of Restitution of a baseball(regulated)\n",
    "\n",
    "Cl = 0.22 # Lift coefficient (used in calculating Magnus force)"
   ]
  },
  {
   "cell_type": "code",
   "execution_count": 2,
   "metadata": {
    "scrolled": false
   },
   "outputs": [
    {
     "data": {
      "text/html": [
       "<div id=\"glowscript\" class=\"glowscript\"></div>"
      ],
      "text/plain": [
       "<IPython.core.display.HTML object>"
      ]
     },
     "metadata": {},
     "output_type": "display_data"
    },
    {
     "data": {
      "application/javascript": [
       "window.__context = { glowscript_container: $(\"#glowscript\").removeAttr(\"id\")}"
      ],
      "text/plain": [
       "<IPython.core.display.Javascript object>"
      ]
     },
     "metadata": {},
     "output_type": "display_data"
    }
   ],
   "source": [
    "# open the ballpark\n",
    "scene = canvas(width=1000, height=400, center=vector(-20, 30, 20),background=vector(0,0,0), title = 'Click to place yourself')\n",
    "scene.camera.pos = vector(-20, 100, 20)\n",
    "scene.camera.axis = vector(20, -100, -20)\n",
    "field = box(length=100, height=0.01, width=100, pos = vector(0, 0, 0), color=vector(0.5, 1, 0), texture = \"grass.jpg\") # the field\n",
    "infield = box(length=40, height=0.01, width=40, pos = vector(30, 0.1, -30), color=vector(1, 0.7, 0.2), texture = \"dirt.jpg\") # the infield\n",
    "ball = sphere(radius = 3*size, color=color.white, make_trail=True) # the baseball\n",
    "\n",
    "catcher = box(length=0.6, height=2, width=0.6, pos = vector(48, 1, -48), color = color.cyan)\n",
    "# runner is set to cover 25 meters before scoring\n",
    "runner = box(length=0.6, height=2, width=0.6, pos = vector(48, 1, -23), color = color.yellow, texture = {'file':\"abe.jpg\", 'place':['sides']})\n",
    "\n",
    "\n",
    "\n",
    "# add the effect of wind (using random numbers)\n",
    "wind_x = random()\n",
    "wind_z = random()\n",
    "wind_speed = 10*random()\n",
    "posneg = random()\n",
    "\n",
    "wind = wind_speed*norm(vector(wind_x, 0, wind_z))\n",
    "if(posneg <= 0.25):\n",
    "    wind = wind_speed*norm(vector(-wind_x, 0, -wind_z))\n",
    "elif(posneg <= 0.50):\n",
    "    wind = wind_speed*norm(vector(-wind_x, 0, wind_z))\n",
    "elif(posneg <= 0.75):\n",
    "    wind = wind_speed*norm(vector(wind_x, 0, -wind_z))\n",
    "    \n",
    "wind_arrow = arrow(pos=vector(0, 20, 0), \n",
    "               axis = 3*wind, shaftwidth = 0.5, color = color.magenta)\n",
    "scene.append_to_caption('Windspeed = {:1.2f} m/s\\n'.format(wind_speed))\n",
    "\n",
    "\n",
    "\n",
    "# place yourself (the hero outfielder)\n",
    "scene.waitfor('click')\n",
    "you = box(length=0.6, height=2, width=0.6, pos = vector(scene.mouse.pos.x, 1, scene.mouse.pos.z), color = color.cyan)\n",
    "ball.pos = you.pos + vector(0, 1, 0)\n",
    "scene.center = you.pos\n",
    "scene.autoscale = True\n",
    "print('You are {:1.2f} meters away from your cather'.format(mag(catcher.pos - you.pos)))\n",
    "scene.title = 'Now, determine the angle and velocity to throw the ball back; then, click to start'\n",
    "\n",
    "init_dir = norm(catcher.pos - you.pos) # the direction straight to your catcher\n",
    "direction = init_dir # the direction you can adjust\n",
    "Launch_angle = pi/6 # set default launch angle to 30 degrees\n",
    "Horizontal_adjustment = 0 # the horizontal declination with respect to your catcher\n",
    "Launch_v = 75*1.609*5/18 # set default launch speed to 75mph\n",
    "\n",
    "##　Add the arrow representing launching conditions\n",
    "ball_dir=arrow(pos=ball.pos, \n",
    "               axis = 0.3*Launch_v*norm( vector(direction.x, sqrt(direction.x**2 + direction.z**2)*tan(Launch_angle), direction.z) ),\n",
    "               shaftwidth = ball.radius*3, color = color.red)\n",
    "\n",
    "\n",
    "\n",
    "## Sliders to adjust the launch\n",
    "\n",
    "# Launch angle\n",
    "def setlaunch():\n",
    "    wt1.text = '  Set Launch Angle : {:1d} degrees'.format(sv.value)\n",
    "    direction = vector( init_dir.x*cos(sh.value/180*pi)-init_dir.z*sin(sh.value/180*pi), 0, init_dir.x*sin(sh.value/180*pi)+init_dir.z*cos(sh.value/180*pi))\n",
    "    Launch_angle = sv.value/180*pi\n",
    "    ball_dir.axis = 0.3*Launch_v*norm( vector(direction.x, sqrt(direction.x**2 + direction.z**2)*tan(sv.value/180*pi), direction.z) )\n",
    "\n",
    "# Horizontal declination (using 2D Rotation Matrix to deal with the computation)\n",
    "def setdec():\n",
    "    wt2.text = '  Set Horizontal declination (w.r.t. catcher) : {:1.1f} degrees'.format(sh.value)\n",
    "    direction = vector( init_dir.x*cos(sh.value/180*pi)-init_dir.z*sin(sh.value/180*pi), 0, init_dir.x*sin(sh.value/180*pi)+init_dir.z*cos(sh.value/180*pi))\n",
    "    ball_dir.axis = 0.3*Launch_v*norm( vector(direction.x, sqrt(direction.x**2 + direction.z**2)*tan(sv.value/180*pi), direction.z) )\n",
    "\n",
    "# Launch speed\n",
    "def setspeed():\n",
    "    wt3.text = '  Set Launch Speed : {:1.1f} mph'.format(ss.value)\n",
    "    Launch_v = ss.value*1.609*5/18\n",
    "    direction = vector( init_dir.x*cos(sh.value/180*pi)-init_dir.z*sin(sh.value/180*pi), 0, init_dir.x*sin(sh.value/180*pi)+init_dir.z*cos(sh.value/180*pi))\n",
    "    ball_dir.axis = 0.3*Launch_v*norm( vector(direction.x, sqrt(direction.x**2 + direction.z**2)*tan(sv.value/180*pi), direction.z) )\n",
    "    \n",
    "sv = slider(min=0, max=90, value=30, step = 1, length=250, bind=setlaunch, align = 'left')\n",
    "wt1 = wtext(text='  Set Launch Angle : {:1d} degrees'.format(sv.value))\n",
    "scene.append_to_caption('\\n')\n",
    "\n",
    "sh = slider(min=-10, max=10, value=0, step = 0.1, length=250, bind=setdec, align = 'left')\n",
    "wt2 = wtext(text='  Set Horizontal declination (w.r.t. catcher) : {:1.1f} degrees'.format(sh.value))\n",
    "scene.append_to_caption('\\n')\n",
    "\n",
    "ss = slider(min=50, max=100, value=75, step = 0.1, length=250, bind=setspeed, align = 'left')\n",
    "wt3 = wtext(text='  Set Launch Speed : {:1.1f} mph'.format(ss.value))\n",
    "scene.append_to_caption('\\n')\n",
    "\n",
    "\n",
    "#RUN !!!\n",
    "scene.waitfor('click')\n",
    "\n",
    "direction = norm(ball_dir.axis)\n",
    "Launch_v = ss.value*1.609*5/18\n",
    "ball_p = mass*Launch_v*direction\n",
    "spin_rate = 20*ss.value + 400  #RPM (we used a linear regression formula)\n",
    "v_ang = (spin_rate / 60 * 2 * pi) * norm(cross(vector(0, -1, 0), ball_p/mass))\n",
    "\n",
    "# default runner's speed = 7.5 m/s\n",
    "runner_v = 7.5*norm( catcher.pos - runner.pos )\n",
    "t = 0\n",
    "dt = 0.005\n",
    "\n",
    "success = 0\n",
    "while(runner.pos.z > catcher.pos.z):  ## Failure -> runner has reached the home plate\n",
    "    rate(100)\n",
    "    Fg = mass*g*vector(0, -1, 0) # gravity\n",
    "    Fdrag = 0.5*density*Area* (mag( ball_p/mass - wind ))**2 * Cd * -norm(ball_p/mass - wind)  # air resistance\n",
    "    v = mag(ball_p/mass - wind)\n",
    "    Fmagnus = 0.5 * Cl * density * Area * v**2 * cross(norm(v_ang), norm(ball_p/mass - wind))  # Magnus force\n",
    "    \n",
    "    ## Momentum Principle\n",
    "    ball_p += (Fg+Fdrag+Fmagnus)*dt\n",
    "    ball.pos += (ball_p/mass)*dt\n",
    "    runner.pos += runner_v*dt\n",
    "    \n",
    "    # ball bounces off ground\n",
    "    if(ball.pos.y <= size and ball_p.y < 0):\n",
    "        ball_p.y *= -COR\n",
    "    # Success Condition\n",
    "    if( ( (ball.pos.x-catcher.pos.x)**2 + (ball.pos.z-catcher.pos.z)**2 ) <= 1 and ball.pos.y <= 2 ):\n",
    "        success = 1\n",
    "        break\n",
    "    \n",
    "    t += dt\n",
    "    \n",
    "if(success): \n",
    "    scene.append_to_caption('YOU MADE IT!!!\\n')\n",
    "    text(text='YOU MADE IT!!!', align='center', depth=-6, billboard = True, color = vector((15*16+15)/255, (14*16+11)/255, (3*16+11)/255), emissive = 60, pos = field.pos + vector(0, 20, 0), height = 11, width = 120)\n",
    "else:\n",
    "    scene.append_to_caption('SORRY, YOU LOSE :(')\n",
    "    text(text='SORRY, YOU LOSE :(', align='center', depth=-6, billboard = True, color = vector(0, (12*16+6)/255, (10*16+8)/255), emissive = 60, pos = field.pos + vector(0, 20, 0), height = 11, width = 120)"
   ]
  },
  {
   "cell_type": "markdown",
   "metadata": {},
   "source": [
    "## Code: Part B\n",
    "  ### Controlled Experiments -- placing the outfielder at a fixed spot \n",
    " \n",
    " #### Experiment 1 -- How high to launch the ball?\n",
    "Fixed **Launch speed** (and **spinrate**)    \n",
    "Different **Head or tail wind (direct)** and **wind speeds**  \n",
    "Altering **Launch angle** to see the results  \n",
    " "
   ]
  },
  {
   "cell_type": "code",
   "execution_count": 3,
   "metadata": {
    "collapsed": true,
    "scrolled": true
   },
   "outputs": [],
   "source": [
    "from vpython import *\n",
    "\n",
    "## Define Constants\n",
    "\n",
    "density = 1.225 # air density\n",
    "Cd = 0.47 # drag coefficient of a sphere\n",
    "pi = 3.1415926\n",
    "\n",
    "g=9.8 # g = 9.8 m/s^2\n",
    "size = 3.68e-2 # Baseball radius = 3.68 cm\n",
    "mass = 0.145 # Baseball mass = 0.145 kg\n",
    "height = 2.0 # Where the ball leaves your hand\n",
    "Area = pi * (size**2) # effective surface area\n",
    "density_ball = mass / (4/3 * size**3 * pi)\n",
    "\n",
    "COR = 0.57 #Coefficient of Restitution of a baseball(regulated)\n",
    "Cl = 0.22 # Lift coefficient (used in calculating Magnus force)\n"
   ]
  },
  {
   "cell_type": "code",
   "execution_count": null,
   "metadata": {},
   "outputs": [
    {
     "data": {
      "text/html": [
       "<div id=\"glowscript\" class=\"glowscript\"></div>"
      ],
      "text/plain": [
       "<IPython.core.display.HTML object>"
      ]
     },
     "metadata": {},
     "output_type": "display_data"
    },
    {
     "data": {
      "application/javascript": [
       "window.__context = { glowscript_container: $(\"#glowscript\").removeAttr(\"id\")}"
      ],
      "text/plain": [
       "<IPython.core.display.Javascript object>"
      ]
     },
     "metadata": {},
     "output_type": "display_data"
    }
   ],
   "source": [
    "# open the ballpark\n",
    "scene = canvas(width=1000, height=400, center=vector(-20, 30, 20),background=vector(0,0,0))\n",
    "scene.camera.pos = vector(-20, 100, 20)\n",
    "scene.camera.axis = vector(20, -100, -20)\n",
    "field = box(length=100, height=0.01, width=100, pos = vector(0, 0, 0), color=vector(0.5, 1, 0)) # the field\n",
    "infield = box(length=40, height=0.01, width=40, pos = vector(30, 0.1, -30), color=vector(1, 0.7, 0.2)) # the infield\n",
    "ball = sphere(radius = 3*size, color=color.white) # the baseball\n",
    "\n",
    "# catcher at home plate\n",
    "catcher = box(length=0.6, height=2, width=0.6, pos = vector(48, 1, -48), color = color.cyan)\n",
    "# runner is set to cover 25 meters before scoring\n",
    "runner = box(length=0.6, height=2, width=0.6, pos = vector(48, 1, -23), color = color.yellow)\n",
    "\n",
    "# fixed outfielder position (80 meters away from catcher) -- you can change it if you want\n",
    "you = box(length=0.6, height=2, width=0.6, pos = catcher.pos + 80*norm(vector(-1, 0, 1)), color = color.cyan)\n",
    "\n",
    "## Initialize graph to show the statistics\n",
    "graph1 = graph(width=800,height=400, xtitle = 'Windspeed (m/s)', ytitle = 'Launch angle (degree)')\n",
    "gd_success = gdots(graph=graph1,size=3,color=color.green)\n",
    "gd_successB = gdots(graph=graph1,size=3,color=color.blue)\n",
    "gd_failure = gdots(graph=graph1,size=3,color=color.red)\n",
    "gd_failureO = gdots(graph=graph1,size=3,color=color.black)\n",
    "\n",
    "direction = norm(catcher.pos - you.pos)\n",
    "wind_direction = direction\n",
    "LaunchMPH = 90 # set default launch speed to 90mph -- you can change it if you want\n",
    "Launch_v = LaunchMPH*1.609*5/18\n",
    "spin_rate = 20*LaunchMPH + 400  #RPM (we used a linear regression formula)\n",
    "v_ang = (spin_rate / 60 * 2 * pi) * norm(cross(vector(0, -1, 0), direction))  # the angular speed vector\n",
    "\n",
    "scene.append_to_caption('Launch Speed = {:1d} mph\\n'.format(LaunchMPH))\n",
    "scene.append_to_caption('Runner {:1.1f} meters away\\n'.format( runner.pos.z-catcher.pos.z ))\n",
    "for w in range(-40, 41):\n",
    "    wind = w/4 * wind_direction  ## windspeed -10 ~ 10 m/s (with 0.25 increment)\n",
    "    \n",
    "    for a in range(0, 46): ## Launch Angle 0 ~ 45 degree\n",
    "        Launch_angle = a\n",
    "        direction = norm( vector(direction.x, sqrt(direction.x**2 + direction.z**2)*tan(Launch_angle/180*pi), direction.z) )\n",
    "        \n",
    "        ball.pos = you.pos + vector(0, 1, 0)\n",
    "        runner.pos = vector(48, 1, -23) ## re-place the runner after each iteration\n",
    "        ball_p = mass*Launch_v*direction\n",
    "        \n",
    "        # default runner's speed = 7.5 m/s -- you can change it if you want\n",
    "        runner_v = 7.5*norm( catcher.pos - runner.pos )\n",
    "        t = 0\n",
    "        dt = 0.005\n",
    "\n",
    "        success = 0\n",
    "        bounce = 0\n",
    "        while(runner.pos.z > catcher.pos.z):  ## Failure -> runner has reached the home plate\n",
    "            rate(50000)\n",
    "            Fg = mass*g*vector(0, -1, 0) # gravity\n",
    "            Fdrag = 0.5*density*Area* (mag( ball_p/mass - wind ))**2 * Cd * -norm(ball_p/mass - wind)  # air resistance\n",
    "            v = mag(ball_p/mass - wind)\n",
    "            Fmagnus = 0.5 * Cl * density * Area * v**2 * cross(norm(v_ang), norm(ball_p/mass - wind))  # Magnus force\n",
    "\n",
    "            ## Momentum Principle\n",
    "            ball_p += (Fg+Fdrag+Fmagnus)*dt\n",
    "            ball.pos += (ball_p/mass)*dt\n",
    "            runner.pos += runner_v*dt\n",
    "\n",
    "            # ball bounces off ground\n",
    "            if(ball.pos.y <= size and ball_p.y < 0):\n",
    "                ball_p.y *= -COR\n",
    "                bounce += 1\n",
    "            # Success conditions\n",
    "            if( ( (ball.pos.x-catcher.pos.x)**2 + (ball.pos.z-catcher.pos.z)**2 ) <= 1 and ball.pos.y <= 2 ):\n",
    "                success = 1\n",
    "                break\n",
    "\n",
    "            t += dt\n",
    "\n",
    "        if(success):\n",
    "            if( bounce <= 2 ):  # less than 2 bounces -> Good!\n",
    "                gd_success.plot([w/4, Launch_angle])\n",
    "            else:\n",
    "                gd_successB.plot([w/4, Launch_angle])\n",
    "        else:\n",
    "            if( ball.pos.z < -48 ):  ## cases of over-throwing\n",
    "                gd_failureO.plot([w/4, Launch_angle])\n",
    "            else:\n",
    "                gd_failure.plot([w/4, Launch_angle])\n"
   ]
  },
  {
   "cell_type": "markdown",
   "metadata": {
    "collapsed": true
   },
   "source": [
    "#### Experiment 2 -- How much declination under crosswind?\n",
    "\n",
    "Fixed **Launch speed** (and **spinrate**)    \n",
    "Under **Complete crosswind** (perpendicular to the direction to catcher) and determined **wind speeds**  \n",
    "Altering **Launch angle** and **Horizontal declination** to see the results "
   ]
  },
  {
   "cell_type": "code",
   "execution_count": 1,
   "metadata": {},
   "outputs": [
    {
     "data": {
      "application/javascript": [
       "require.undef(\"nbextensions/vpython_libraries/glow.min\");"
      ],
      "text/plain": [
       "<IPython.core.display.Javascript object>"
      ]
     },
     "metadata": {},
     "output_type": "display_data"
    },
    {
     "data": {
      "application/javascript": [
       "require.undef(\"nbextensions/vpython_libraries/glowcomm\");"
      ],
      "text/plain": [
       "<IPython.core.display.Javascript object>"
      ]
     },
     "metadata": {},
     "output_type": "display_data"
    },
    {
     "data": {
      "application/javascript": [
       "require.undef(\"nbextensions/vpython_libraries/jquery-ui.custom.min\");"
      ],
      "text/plain": [
       "<IPython.core.display.Javascript object>"
      ]
     },
     "metadata": {},
     "output_type": "display_data"
    },
    {
     "data": {
      "application/javascript": [
       "require([\"nbextensions/vpython_libraries/glow.min\"], function(){console.log(\"GLOW LOADED\");})"
      ],
      "text/plain": [
       "<IPython.core.display.Javascript object>"
      ]
     },
     "metadata": {},
     "output_type": "display_data"
    },
    {
     "data": {
      "application/javascript": [
       "require([\"nbextensions/vpython_libraries/glowcomm\"], function(){console.log(\"GLOWCOMM LOADED\");})"
      ],
      "text/plain": [
       "<IPython.core.display.Javascript object>"
      ]
     },
     "metadata": {},
     "output_type": "display_data"
    },
    {
     "data": {
      "application/javascript": [
       "require([\"nbextensions/vpython_libraries/jquery-ui.custom.min\"], function(){console.log(\"JQUERY LOADED\");})"
      ],
      "text/plain": [
       "<IPython.core.display.Javascript object>"
      ]
     },
     "metadata": {},
     "output_type": "display_data"
    },
    {
     "data": {
      "text/html": [
       "<div id=\"glowscript\" class=\"glowscript\"></div>"
      ],
      "text/plain": [
       "<IPython.core.display.HTML object>"
      ]
     },
     "metadata": {},
     "output_type": "display_data"
    },
    {
     "data": {
      "application/javascript": [
       "window.__context = { glowscript_container: $(\"#glowscript\").removeAttr(\"id\")}"
      ],
      "text/plain": [
       "<IPython.core.display.Javascript object>"
      ]
     },
     "metadata": {},
     "output_type": "display_data"
    }
   ],
   "source": [
    "from vpython import *\n",
    "\n",
    "## Define Constants\n",
    "\n",
    "density = 1.225 # air density\n",
    "Cd = 0.47 # drag coefficient of a sphere\n",
    "pi = 3.1415926\n",
    "\n",
    "g=9.8 # g = 9.8 m/s^2\n",
    "size = 3.68e-2 # Baseball radius = 3.68 cm\n",
    "mass = 0.145 # Baseball mass = 0.145 kg\n",
    "height = 2.0 # Where the ball leaves your hand\n",
    "Area = pi * (size**2) # effective surface area\n",
    "density_ball = mass / (4/3 * size**3 * pi)\n",
    "\n",
    "COR = 0.57 #Coefficient of Restitution of a baseball(regulated)\n",
    "Cl = 0.22 # Lift coefficient (used in calculating Magnus force)\n"
   ]
  },
  {
   "cell_type": "code",
   "execution_count": 2,
   "metadata": {
    "scrolled": false
   },
   "outputs": [
    {
     "data": {
      "text/html": [
       "<div id=\"glowscript\" class=\"glowscript\"></div>"
      ],
      "text/plain": [
       "<IPython.core.display.HTML object>"
      ]
     },
     "metadata": {},
     "output_type": "display_data"
    },
    {
     "data": {
      "application/javascript": [
       "window.__context = { glowscript_container: $(\"#glowscript\").removeAttr(\"id\")}"
      ],
      "text/plain": [
       "<IPython.core.display.Javascript object>"
      ]
     },
     "metadata": {},
     "output_type": "display_data"
    },
    {
     "ename": "KeyboardInterrupt",
     "evalue": "",
     "output_type": "error",
     "traceback": [
      "\u001b[1;31m---------------------------------------------------------------------------\u001b[0m",
      "\u001b[1;31mKeyboardInterrupt\u001b[0m                         Traceback (most recent call last)",
      "\u001b[1;32m<ipython-input-2-ab04df6fe7b5>\u001b[0m in \u001b[0;36m<module>\u001b[1;34m()\u001b[0m\n\u001b[0;32m     67\u001b[0m             \u001b[0mball_p\u001b[0m \u001b[1;33m+=\u001b[0m \u001b[1;33m(\u001b[0m\u001b[0mFg\u001b[0m\u001b[1;33m+\u001b[0m\u001b[0mFdrag\u001b[0m\u001b[1;33m+\u001b[0m\u001b[0mFmagnus\u001b[0m\u001b[1;33m)\u001b[0m\u001b[1;33m*\u001b[0m\u001b[0mdt\u001b[0m\u001b[1;33m\u001b[0m\u001b[0m\n\u001b[0;32m     68\u001b[0m             \u001b[0mball\u001b[0m\u001b[1;33m.\u001b[0m\u001b[0mpos\u001b[0m \u001b[1;33m+=\u001b[0m \u001b[1;33m(\u001b[0m\u001b[0mball_p\u001b[0m\u001b[1;33m/\u001b[0m\u001b[0mmass\u001b[0m\u001b[1;33m)\u001b[0m\u001b[1;33m*\u001b[0m\u001b[0mdt\u001b[0m\u001b[1;33m\u001b[0m\u001b[0m\n\u001b[1;32m---> 69\u001b[1;33m             \u001b[0mrunner\u001b[0m\u001b[1;33m.\u001b[0m\u001b[0mpos\u001b[0m \u001b[1;33m+=\u001b[0m \u001b[0mrunner_v\u001b[0m\u001b[1;33m*\u001b[0m\u001b[0mdt\u001b[0m\u001b[1;33m\u001b[0m\u001b[0m\n\u001b[0m\u001b[0;32m     70\u001b[0m \u001b[1;33m\u001b[0m\u001b[0m\n\u001b[0;32m     71\u001b[0m             \u001b[1;31m# ball bounces off ground\u001b[0m\u001b[1;33m\u001b[0m\u001b[1;33m\u001b[0m\u001b[0m\n",
      "\u001b[1;32mC:\\Users\\Sean Shihlun Wu\\Anaconda2\\lib\\site-packages\\vpython\\vpython.pyc\u001b[0m in \u001b[0;36mpos\u001b[1;34m(self, value)\u001b[0m\n\u001b[0;32m    790\u001b[0m                 \u001b[0mself\u001b[0m\u001b[1;33m.\u001b[0m\u001b[0maddmethod\u001b[0m\u001b[1;33m(\u001b[0m\u001b[1;34m'pos'\u001b[0m\u001b[1;33m,\u001b[0m \u001b[0mvalue\u001b[0m\u001b[1;33m.\u001b[0m\u001b[0mvalue\u001b[0m\u001b[1;33m)\u001b[0m\u001b[1;33m\u001b[0m\u001b[0m\n\u001b[0;32m    791\u001b[0m             \u001b[1;32melse\u001b[0m\u001b[1;33m:\u001b[0m\u001b[1;33m\u001b[0m\u001b[0m\n\u001b[1;32m--> 792\u001b[1;33m                 \u001b[0mself\u001b[0m\u001b[1;33m.\u001b[0m\u001b[0maddattr\u001b[0m\u001b[1;33m(\u001b[0m\u001b[1;34m'pos'\u001b[0m\u001b[1;33m)\u001b[0m\u001b[1;33m\u001b[0m\u001b[0m\n\u001b[0m\u001b[0;32m    793\u001b[0m \u001b[1;33m\u001b[0m\u001b[0m\n\u001b[0;32m    794\u001b[0m     \u001b[1;33m@\u001b[0m\u001b[0mproperty\u001b[0m\u001b[1;33m\u001b[0m\u001b[0m\n",
      "\u001b[1;32mC:\\Users\\Sean Shihlun Wu\\Anaconda2\\lib\\site-packages\\vpython\\vpython.pyc\u001b[0m in \u001b[0;36maddattr\u001b[1;34m(self, attr)\u001b[0m\n\u001b[0;32m    294\u001b[0m         \u001b[1;32mwhile\u001b[0m \u001b[1;32mnot\u001b[0m \u001b[0mbaseObj\u001b[0m\u001b[1;33m.\u001b[0m\u001b[0msent\u001b[0m\u001b[1;33m:\u001b[0m \u001b[1;31m# baseObj.sent is always True in the notebook case\u001b[0m\u001b[1;33m\u001b[0m\u001b[0m\n\u001b[0;32m    295\u001b[0m             \u001b[0mtime\u001b[0m\u001b[1;33m.\u001b[0m\u001b[0msleep\u001b[0m\u001b[1;33m(\u001b[0m\u001b[1;36m0.001\u001b[0m\u001b[1;33m)\u001b[0m\u001b[1;33m\u001b[0m\u001b[0m\n\u001b[1;32m--> 296\u001b[1;33m         \u001b[0mbaseObj\u001b[0m\u001b[1;33m.\u001b[0m\u001b[0mattrs\u001b[0m\u001b[1;33m.\u001b[0m\u001b[0madd\u001b[0m\u001b[1;33m(\u001b[0m\u001b[1;33m(\u001b[0m\u001b[0mself\u001b[0m\u001b[1;33m.\u001b[0m\u001b[0midx\u001b[0m\u001b[1;33m,\u001b[0m \u001b[0mattr\u001b[0m\u001b[1;33m)\u001b[0m\u001b[1;33m)\u001b[0m \u001b[1;31m# this is an \"atomic\" (uninterruptable) operation\u001b[0m\u001b[1;33m\u001b[0m\u001b[0m\n\u001b[0m\u001b[0;32m    297\u001b[0m \u001b[1;33m\u001b[0m\u001b[0m\n\u001b[0;32m    298\u001b[0m     \u001b[1;33m@\u001b[0m\u001b[0mclassmethod\u001b[0m\u001b[1;33m\u001b[0m\u001b[0m\n",
      "\u001b[1;31mKeyboardInterrupt\u001b[0m: "
     ]
    }
   ],
   "source": [
    "# open the ballpark\n",
    "scene = canvas(width=1000, height=400, center=vector(-20, 30, 20),background=vector(0,0,0))\n",
    "scene.camera.pos = vector(-20, 100, 20)\n",
    "scene.camera.axis = vector(20, -100, -20)\n",
    "field = box(length=100, height=0.01, width=100, pos = vector(0, 0, 0), color=vector(0.5, 1, 0)) # the field\n",
    "infield = box(length=40, height=0.01, width=40, pos = vector(30, 0.1, -30), color=vector(1, 0.7, 0.2)) # the infield\n",
    "ball = sphere(radius = 3*size, color=color.white, make_trail=False) # the baseball\n",
    "\n",
    "# catcher at home plate\n",
    "catcher = box(length=0.6, height=2, width=0.6, pos = vector(48, 1, -48), color = color.cyan)\n",
    "# runner is set to cover 25 meters before scoring -- you can change if you want (alter the z component)\n",
    "runner = box(length=0.6, height=2, width=0.6, pos = vector(48, 1, -23), color = color.yellow)\n",
    "\n",
    "# fixed outfielder position (80 meters away from catcher) -- you can change it if you want\n",
    "you = box(length=0.6, height=2, width=0.6, pos = catcher.pos + 80*norm(vector(-1, 0, 1)), color = color.cyan)\n",
    "\n",
    "## Initialize graph to show the statistics\n",
    "graph1 = graph(width=800,height=400, xtitle = 'Horizontal declination (degree)', ytitle = 'Launch angle (degree)')\n",
    "gd_success = gdots(graph=graph1,size=3,color=color.green)\n",
    "gd_failureL = gdots(graph=graph1,size=3,color=color.red)\n",
    "gd_failureR = gdots(graph=graph1,size=3,color=color.black)\n",
    "\n",
    "direction = norm(catcher.pos - you.pos)\n",
    "wind_direction = norm(cross(vector(0, -1, 0), direction)) ## crosswind coming from the left\n",
    "LaunchMPH = 90 # set default launch speed to 90mph -- you can change it if you want\n",
    "Launch_v = LaunchMPH*1.609*5/18\n",
    "spin_rate = 20*LaunchMPH + 400  #RPM (we used a linear formula)\n",
    "v_ang = (spin_rate / 60 * 2 * pi) * norm(cross(vector(0, -1, 0), direction))  # the angular speed vector\n",
    "\n",
    "windspeed = 5 ## set windspeed = 5 m/s -- you can change if you want\n",
    "wind = windspeed*wind_direction\n",
    "\n",
    "scene.append_to_caption('Crosswind = {:1d} m/s\\n'.format(windspeed))\n",
    "scene.append_to_caption('Launch Speed = {:1d} mph\\n'.format(LaunchMPH))\n",
    "scene.append_to_caption('Runner {:1.1f} meters away\\n'.format( runner.pos.z-catcher.pos.z ))\n",
    "for dec in range(-100, 1): ## Hor declination -10 to 0 degree (with 0.1 increment)\n",
    "    Hordec = dec/10\n",
    "    \n",
    "    for a in range(0, 46): ## Launch Angle 0 ~ 45 degree\n",
    "        Launch_angle = a\n",
    "        \n",
    "        direction = norm(catcher.pos - you.pos) ## re-initialize direction\n",
    "        ## use 2D rotation matrix to handle horizontal dec\n",
    "        direction = vector( direction.x*cos(Hordec/180*pi)-direction.z*sin(Hordec/180*pi),\n",
    "                           0, direction.x*sin(Hordec/180*pi)+direction.z*cos(Hordec/180*pi))\n",
    "        ## adding vertical(y) component\n",
    "        direction = norm( vector(direction.x, sqrt(direction.x**2 + direction.z**2)*tan(Launch_angle/180*pi), direction.z) )\n",
    "        \n",
    "        ball.pos = you.pos + vector(0, 1, 0) # re-place the runner after each iteration\n",
    "        runner.pos = vector(48, 1, -23)\n",
    "        ball_p = mass*Launch_v*direction\n",
    "        \n",
    "        # default runner's speed = 7.5 m/s -- you can change it if you want\n",
    "        runner_v = 7.5*norm( catcher.pos - runner.pos )\n",
    "        t = 0\n",
    "        dt = 0.005\n",
    "\n",
    "        success = 0\n",
    "        while(runner.pos.z > catcher.pos.z):  ## Failure -> runner has reached the home plate\n",
    "            rate(50000)\n",
    "            Fg = mass*g*vector(0, -1, 0) # gravity\n",
    "            Fdrag = 0.5*density*Area* (mag( ball_p/mass - wind ))**2 * Cd * -norm(ball_p/mass - wind)  # air resistance\n",
    "            v = mag(ball_p/mass - wind)\n",
    "            Fmagnus = 0.5 * Cl * density * Area * v**2 * cross(norm(v_ang), norm(ball_p/mass - wind))  # Magnus force\n",
    "\n",
    "            ## Momentum Principle\n",
    "            ball_p += (Fg+Fdrag+Fmagnus)*dt\n",
    "            ball.pos += (ball_p/mass)*dt\n",
    "            runner.pos += runner_v*dt\n",
    "\n",
    "            # ball bounces off ground\n",
    "            if(ball.pos.y <= size and ball_p.y < 0):\n",
    "                ball_p.y *= -COR\n",
    "            # Success conditions\n",
    "            if( ( (ball.pos.x-catcher.pos.x)**2 + (ball.pos.z-catcher.pos.z)**2 ) <= 1 and ball.pos.y <= 2 ):\n",
    "                success = 1\n",
    "                break\n",
    "\n",
    "            t += dt\n",
    "\n",
    "        if(success): \n",
    "            gd_success.plot([Hordec, Launch_angle])\n",
    "        else:\n",
    "            if( ball.pos.z+ball.pos.x < 0 ):  ## missing left\n",
    "                gd_failureL.plot([Hordec, Launch_angle])\n",
    "            else:                             ## missing right\n",
    "                gd_failureR.plot([Hordec, Launch_angle])\n"
   ]
  },
  {
   "cell_type": "markdown",
   "metadata": {
    "collapsed": true
   },
   "source": [
    " ## --- above is last semester --\n",
    " \n",
    " # Part I: DC Current"
   ]
  },
  {
   "cell_type": "code",
   "execution_count": 18,
   "metadata": {},
   "outputs": [],
   "source": [
    "from vpython import *\n",
    "\n",
    "## define constants\n",
    "mu0_over4pi = 1e-7\n",
    "pi = acos(-1.0)\n",
    "R = 0.15\n",
    "I = 50\n",
    "qe = 1.602e-19\n",
    "mass_e = 9.11e-31\n",
    "c = 3e8\n",
    "\n",
    "##extrusion(path=paths.circle(pos=vec(0.475*apart,0,0),radius=R*1.1,up=vec(1,0,0)), texture=textures.metal, \n",
    "#    shape=[[shapes.rectangle(pos=[0,0.1*R,0],width=0.01,height=0.003)], \n",
    "#    [shapes.rectangle(pos=[0.005,0.1*R,0],width=0.001,height=0.01)], \n",
    "#    [shapes.rectangle(pos=[-0.005,0.1*R,0],width=0.001,height=0.01)]])\n",
    "##cylinder(pos=vector(0.5*apart-0.05*R, 0, 0), axis = vector(0.1*R, 0, 0), radius = R,\n",
    "##             color = color.yellow, shininess = 0.6)"
   ]
  },
  {
   "cell_type": "code",
   "execution_count": null,
   "metadata": {
    "scrolled": true
   },
   "outputs": [
    {
     "data": {
      "text/html": [
       "<div id=\"glowscript\" class=\"glowscript\"></div>"
      ],
      "text/plain": [
       "<IPython.core.display.HTML object>"
      ]
     },
     "metadata": {},
     "output_type": "display_data"
    },
    {
     "data": {
      "application/javascript": [
       "window.__context = { glowscript_container: $(\"#glowscript\").removeAttr(\"id\")}"
      ],
      "text/plain": [
       "<IPython.core.display.Javascript object>"
      ]
     },
     "metadata": {},
     "output_type": "display_data"
    }
   ],
   "source": [
    "enviro = canvas(width=600, height=400, title = 'click to shoot electron in')\n",
    "apart = R\n",
    "\n",
    "## Build the coils\n",
    "\n",
    "I_ring1 = extrusion(path=paths.circle(pos=vec(0.5*apart,0,0),radius=R*1.1,up=vec(1,0,0)),\n",
    "                   texture=textures.metal, color = color.yellow,\n",
    "                    shape=[[shapes.rectangle(pos=[0,0.1*R,0],width=0.01,height=0.003)], \n",
    "                            [shapes.rectangle(pos=[0.005,0.1*R,0],width=0.001,height=0.01)], \n",
    "                            [shapes.rectangle(pos=[-0.005,0.1*R,0],width=0.001,height=0.01)]])\n",
    "\n",
    "con_rod = cylinder(pos=vector(0.5*R, -R, 0), axis = vector(0, -0.2*R, 0), radius = 0.04*R, color = color.gray(0.8), shininess = 0.6)\n",
    "base = box(pos=vector(0.5*R, -1.3*R, 0), size=vector(0.6*R, 0.3*R, 0.6*R), color = vector(1, 0.7, 0.2))\n",
    "\n",
    "coil1 = compound([con_rod, base])\n",
    "coil2 = coil1.clone(pos = vec(-coil1.pos.x, coil1.pos.y, 0))\n",
    "I_ring2 = I_ring1.clone(pos = -I_ring1.pos)\n",
    "\n",
    "\n",
    "## discretize the coils\n",
    "segment_Y = []\n",
    "segment_Z = []\n",
    "for i in range(0, 73):\n",
    "    segment_Y.append( R*cos(i*2*pi/72) )\n",
    "    segment_Z.append( R*sin(i*2*pi/72) )\n",
    "\n",
    "## For x-axis field plotting\n",
    "x_field = graph(width=800,height=400, xtitle = 'x_position (*R)', ytitle = 'Magnetic field (T)', ymax = 4e-4)\n",
    "gc_B1 = gcurve(graph=x_field,color=color.green)\n",
    "gc_B2 = gcurve(graph=x_field,color=color.blue)\n",
    "gc_B = gcurve(graph=x_field,color=color.magenta)\n",
    "\n",
    "def x_plot(dis):\n",
    "    gc_B1.delete()\n",
    "    gc_B2.delete()\n",
    "    gc_B.delete()\n",
    "    segment_pos = []\n",
    "    dLength = []\n",
    "    \n",
    "    for i in range(0, 72):\n",
    "        segment_pos.append( 0.5*vec(0.5*dis, segment_Y[i], segment_Z[i]) + \n",
    "                            0.5*vec(0.5*dis, segment_Y[i+1], segment_Z[i+1]) )\n",
    "        dLength.append( vec(0.5*dis, segment_Y[i+1], segment_Z[i+1]) - \n",
    "                        vec(0.5*dis, segment_Y[i], segment_Z[i]) )\n",
    "\n",
    "    ## compute B-field along x-axis\n",
    "    for i in range(-200, 201):\n",
    "        now_pos = vec(i*(dis/200),0,0)\n",
    "        B_now = vec(0,0,0)\n",
    "        B1 = B2 = vec(0, 0, 0)\n",
    "        \n",
    "        for j in range (0,72):\n",
    "            pos1 = segment_pos[j]\n",
    "            pos2 = vec(-pos1.x, pos1.y, pos1.z)\n",
    "            dB1 = mu0_over4pi*I*cross(dLength[j], now_pos - pos1) / mag(now_pos - pos1)**3\n",
    "            dB2 = mu0_over4pi*I*cross(dLength[j], now_pos - pos2) / mag(now_pos - pos2)**3\n",
    "            B1 += dB1\n",
    "            B2 += dB2\n",
    "            B_now += dB1+dB2\n",
    "\n",
    "        gc_B.plot([now_pos.x/R, mag(B_now)])\n",
    "        gc_B1.plot([now_pos.x/R, mag(B1)])\n",
    "        gc_B2.plot([now_pos.x/R, mag(B2)])\n",
    "    \n",
    "enviro.caption = \"Vary the distance between coils\\n\"\n",
    "def setapart(s):\n",
    "    wt.text = '{:1.2f}'.format(s.value)\n",
    "    global apart\n",
    "    apart = s.value*R\n",
    "    coil1.pos.x = 0.5*apart\n",
    "    coil2.pos.x = -0.5*apart\n",
    "    I_ring1.pos.x = 0.5*apart\n",
    "    I_ring2.pos.x = -0.5*apart\n",
    "    x_plot(apart)\n",
    "    \n",
    "sl_ap = slider(min=0.5, max=3, value=1, length=220, bind=setapart, right=15)\n",
    "wt = wtext(text='{:1.2f}'.format(sl_ap.value))\n",
    "enviro.append_to_caption('* Radius of coil\\n')\n",
    "\n",
    "def B_calculate(pos):\n",
    "    B_now = vec(0,0,0)\n",
    "    for j in range (0,72):\n",
    "        pos1 = segment_pos[j]\n",
    "        pos2 = vec(-pos1.x, pos1.y, pos1.z)\n",
    "        dB1 = mu0_over4pi*I*cross(dLength[j], pos - pos1) / mag(pos - pos1)**3\n",
    "        dB2 = mu0_over4pi*I*cross(dLength[j], pos - pos2) / mag(pos - pos2)**3\n",
    "        B_now += dB1+dB2\n",
    "    return B_now\n",
    "\n",
    "## send an electron in\n",
    "electron = sphere(pos=vec(0, 0, 0), radius = 0.05*R, make_trail = True)\n",
    "enviro.waitfor('click')\n",
    "\n",
    "t = 0\n",
    "dt = 1e-10\n",
    "e_velo = vec(0, -8e-3*c, 0)\n",
    "while(mag(electron.pos) <= 5*R):\n",
    "    rate(1000000)\n",
    "    Fmag = -qe*cross(e_velo, B_calculate(electron.pos))\n",
    "    e_velo += Fmag/mass_e*dt\n",
    "    electron.pos += e_velo*dt\n",
    "    t += dt\n"
   ]
  },
  {
   "cell_type": "code",
   "execution_count": null,
   "metadata": {
    "collapsed": true
   },
   "outputs": [],
   "source": []
  }
 ],
 "metadata": {
  "kernelspec": {
   "display_name": "VPython",
   "language": "python",
   "name": "vpython"
  },
  "language_info": {
   "codemirror_mode": {
    "name": "ipython",
    "version": 2
   },
   "file_extension": ".py",
   "mimetype": "text/x-python",
   "name": "python",
   "nbconvert_exporter": "python",
   "pygments_lexer": "ipython2",
   "version": "2.7.13"
  }
 },
 "nbformat": 4,
 "nbformat_minor": 1
}
